{
  "cells": [
    {
      "cell_type": "code",
      "execution_count": 66,
      "metadata": {
        "id": "NLsGKWWglxhy"
      },
      "outputs": [],
      "source": [
        "import pandas as pd\n",
        "import numpy as np\n",
        "import matplotlib.pyplot as plt"
      ]
    },
    {
      "cell_type": "code",
      "execution_count": 67,
      "metadata": {
        "id": "L7Z7XAXSl32u"
      },
      "outputs": [],
      "source": [
        "df = pd.read_csv(\"ytcleaned.csv\")"
      ]
    },
    {
      "cell_type": "code",
      "execution_count": 68,
      "metadata": {
        "colab": {
          "base_uri": "https://localhost:8080/",
          "height": 554
        },
        "id": "wifjZqvZmDat",
        "outputId": "9f62a73e-3980-4359-ed13-c60d12a4ca5e"
      },
      "outputs": [
        {
          "data": {
            "text/plain": [
              "Unnamed: 0                0\n",
              "video_id                  0\n",
              "trending_date             0\n",
              "title                     0\n",
              "channel_title             0\n",
              "category_id               0\n",
              "publish_time              0\n",
              "views                     0\n",
              "likes                     0\n",
              "dislikes                  0\n",
              "comment_count             0\n",
              "comments_disabled         0\n",
              "ratings_disabled          0\n",
              "video_error_or_removed    0\n",
              "Genre                     0\n",
              "dtype: int64"
            ]
          },
          "execution_count": 68,
          "metadata": {},
          "output_type": "execute_result"
        }
      ],
      "source": [
        "df.isnull().sum()"
      ]
    },
    {
      "cell_type": "code",
      "execution_count": 69,
      "metadata": {
        "colab": {
          "base_uri": "https://localhost:8080/"
        },
        "id": "0ATy1pTfmE6j",
        "outputId": "ba7cbace-af5d-4295-a922-8ba9e766682a"
      },
      "outputs": [
        {
          "data": {
            "text/plain": [
              "0"
            ]
          },
          "execution_count": 69,
          "metadata": {},
          "output_type": "execute_result"
        }
      ],
      "source": [
        "df.duplicated().sum()"
      ]
    },
    {
      "cell_type": "code",
      "execution_count": 70,
      "metadata": {
        "id": "DdJS2zYtmG1X"
      },
      "outputs": [],
      "source": [
        "from sklearn.model_selection import train_test_split\n",
        "from sklearn.linear_model import LinearRegression\n",
        "from sklearn.metrics import mean_squared_error, r2_score"
      ]
    },
    {
      "cell_type": "code",
      "execution_count": 71,
      "metadata": {
        "colab": {
          "base_uri": "https://localhost:8080/",
          "height": 999
        },
        "id": "L-PA1zRamN6E",
        "outputId": "cd5f6be9-4b47-4054-e3e4-cbf5805d01d8"
      },
      "outputs": [
        {
          "data": {
            "text/html": [
              "<div>\n",
              "<style scoped>\n",
              "    .dataframe tbody tr th:only-of-type {\n",
              "        vertical-align: middle;\n",
              "    }\n",
              "\n",
              "    .dataframe tbody tr th {\n",
              "        vertical-align: top;\n",
              "    }\n",
              "\n",
              "    .dataframe thead th {\n",
              "        text-align: right;\n",
              "    }\n",
              "</style>\n",
              "<table border=\"1\" class=\"dataframe\">\n",
              "  <thead>\n",
              "    <tr style=\"text-align: right;\">\n",
              "      <th></th>\n",
              "      <th>Unnamed: 0</th>\n",
              "      <th>video_id</th>\n",
              "      <th>trending_date</th>\n",
              "      <th>title</th>\n",
              "      <th>channel_title</th>\n",
              "      <th>category_id</th>\n",
              "      <th>publish_time</th>\n",
              "      <th>views</th>\n",
              "      <th>likes</th>\n",
              "      <th>dislikes</th>\n",
              "      <th>comment_count</th>\n",
              "      <th>comments_disabled</th>\n",
              "      <th>ratings_disabled</th>\n",
              "      <th>video_error_or_removed</th>\n",
              "      <th>Genre</th>\n",
              "    </tr>\n",
              "  </thead>\n",
              "  <tbody>\n",
              "    <tr>\n",
              "      <th>0</th>\n",
              "      <td>0</td>\n",
              "      <td>2kyS6SvSYSE</td>\n",
              "      <td>2017-11-14</td>\n",
              "      <td>WE WANT TO TALK ABOUT OUR MARRIAGE</td>\n",
              "      <td>CaseyNeistat</td>\n",
              "      <td>22</td>\n",
              "      <td>2017-11-13 17:13:01+00:00</td>\n",
              "      <td>748374</td>\n",
              "      <td>57527</td>\n",
              "      <td>2966</td>\n",
              "      <td>15954</td>\n",
              "      <td>False</td>\n",
              "      <td>False</td>\n",
              "      <td>False</td>\n",
              "      <td>People &amp; Blogs</td>\n",
              "    </tr>\n",
              "    <tr>\n",
              "      <th>1</th>\n",
              "      <td>1</td>\n",
              "      <td>0mlNzVSJrT0</td>\n",
              "      <td>2017-11-14</td>\n",
              "      <td>Me-O Cats Commercial</td>\n",
              "      <td>Nobrand</td>\n",
              "      <td>22</td>\n",
              "      <td>2017-04-21 06:47:32+00:00</td>\n",
              "      <td>98966</td>\n",
              "      <td>2486</td>\n",
              "      <td>184</td>\n",
              "      <td>532</td>\n",
              "      <td>False</td>\n",
              "      <td>False</td>\n",
              "      <td>False</td>\n",
              "      <td>People &amp; Blogs</td>\n",
              "    </tr>\n",
              "    <tr>\n",
              "      <th>2</th>\n",
              "      <td>2</td>\n",
              "      <td>STI2fI7sKMo</td>\n",
              "      <td>2017-11-14</td>\n",
              "      <td>AFFAIRS, EX BOYFRIENDS, $18MILLION NET WORTH -...</td>\n",
              "      <td>Shawn Johnson East</td>\n",
              "      <td>22</td>\n",
              "      <td>2017-11-11 15:00:03+00:00</td>\n",
              "      <td>321053</td>\n",
              "      <td>4451</td>\n",
              "      <td>1772</td>\n",
              "      <td>895</td>\n",
              "      <td>False</td>\n",
              "      <td>False</td>\n",
              "      <td>False</td>\n",
              "      <td>People &amp; Blogs</td>\n",
              "    </tr>\n",
              "    <tr>\n",
              "      <th>3</th>\n",
              "      <td>3</td>\n",
              "      <td>KODzih-pYlU</td>\n",
              "      <td>2017-11-14</td>\n",
              "      <td>BLIND(folded) CAKE DECORATING CONTEST (with Mo...</td>\n",
              "      <td>Grace Helbig</td>\n",
              "      <td>22</td>\n",
              "      <td>2017-11-11 18:08:04+00:00</td>\n",
              "      <td>197062</td>\n",
              "      <td>7250</td>\n",
              "      <td>217</td>\n",
              "      <td>456</td>\n",
              "      <td>False</td>\n",
              "      <td>False</td>\n",
              "      <td>False</td>\n",
              "      <td>People &amp; Blogs</td>\n",
              "    </tr>\n",
              "    <tr>\n",
              "      <th>4</th>\n",
              "      <td>4</td>\n",
              "      <td>8mhTWqWlQzU</td>\n",
              "      <td>2017-11-14</td>\n",
              "      <td>Wearing Online Dollar Store Makeup For A Week</td>\n",
              "      <td>Safiya Nygaard</td>\n",
              "      <td>22</td>\n",
              "      <td>2017-11-11 01:19:33+00:00</td>\n",
              "      <td>2744430</td>\n",
              "      <td>115426</td>\n",
              "      <td>1110</td>\n",
              "      <td>6541</td>\n",
              "      <td>False</td>\n",
              "      <td>False</td>\n",
              "      <td>False</td>\n",
              "      <td>People &amp; Blogs</td>\n",
              "    </tr>\n",
              "    <tr>\n",
              "      <th>...</th>\n",
              "      <td>...</td>\n",
              "      <td>...</td>\n",
              "      <td>...</td>\n",
              "      <td>...</td>\n",
              "      <td>...</td>\n",
              "      <td>...</td>\n",
              "      <td>...</td>\n",
              "      <td>...</td>\n",
              "      <td>...</td>\n",
              "      <td>...</td>\n",
              "      <td>...</td>\n",
              "      <td>...</td>\n",
              "      <td>...</td>\n",
              "      <td>...</td>\n",
              "      <td>...</td>\n",
              "    </tr>\n",
              "    <tr>\n",
              "      <th>40944</th>\n",
              "      <td>40944</td>\n",
              "      <td>V6ElE2xs48c</td>\n",
              "      <td>2018-06-02</td>\n",
              "      <td>Game of Zones - S5:E5: The Isle of Van Gundy</td>\n",
              "      <td>Bleacher Report</td>\n",
              "      <td>43</td>\n",
              "      <td>2018-05-10 21:01:22+00:00</td>\n",
              "      <td>1324482</td>\n",
              "      <td>22413</td>\n",
              "      <td>608</td>\n",
              "      <td>1644</td>\n",
              "      <td>False</td>\n",
              "      <td>False</td>\n",
              "      <td>False</td>\n",
              "      <td>Shows</td>\n",
              "    </tr>\n",
              "    <tr>\n",
              "      <th>40945</th>\n",
              "      <td>40945</td>\n",
              "      <td>V6ElE2xs48c</td>\n",
              "      <td>2018-06-03</td>\n",
              "      <td>Game of Zones - S5:E5: The Isle of Van Gundy</td>\n",
              "      <td>Bleacher Report</td>\n",
              "      <td>43</td>\n",
              "      <td>2018-05-10 21:01:22+00:00</td>\n",
              "      <td>1332252</td>\n",
              "      <td>22461</td>\n",
              "      <td>610</td>\n",
              "      <td>1648</td>\n",
              "      <td>False</td>\n",
              "      <td>False</td>\n",
              "      <td>False</td>\n",
              "      <td>Shows</td>\n",
              "    </tr>\n",
              "    <tr>\n",
              "      <th>40946</th>\n",
              "      <td>40946</td>\n",
              "      <td>V6ElE2xs48c</td>\n",
              "      <td>2018-06-04</td>\n",
              "      <td>Game of Zones - S5:E5: The Isle of Van Gundy</td>\n",
              "      <td>Bleacher Report</td>\n",
              "      <td>43</td>\n",
              "      <td>2018-05-10 21:01:22+00:00</td>\n",
              "      <td>1340039</td>\n",
              "      <td>22504</td>\n",
              "      <td>615</td>\n",
              "      <td>1648</td>\n",
              "      <td>False</td>\n",
              "      <td>False</td>\n",
              "      <td>False</td>\n",
              "      <td>Shows</td>\n",
              "    </tr>\n",
              "    <tr>\n",
              "      <th>40947</th>\n",
              "      <td>40947</td>\n",
              "      <td>V6ElE2xs48c</td>\n",
              "      <td>2018-06-05</td>\n",
              "      <td>Game of Zones - S5:E5: The Isle of Van Gundy</td>\n",
              "      <td>Bleacher Report</td>\n",
              "      <td>43</td>\n",
              "      <td>2018-05-10 21:01:22+00:00</td>\n",
              "      <td>1345086</td>\n",
              "      <td>22542</td>\n",
              "      <td>615</td>\n",
              "      <td>1649</td>\n",
              "      <td>False</td>\n",
              "      <td>False</td>\n",
              "      <td>False</td>\n",
              "      <td>Shows</td>\n",
              "    </tr>\n",
              "    <tr>\n",
              "      <th>40948</th>\n",
              "      <td>40948</td>\n",
              "      <td>V6ElE2xs48c</td>\n",
              "      <td>2018-06-06</td>\n",
              "      <td>Game of Zones - S5:E5: The Isle of Van Gundy</td>\n",
              "      <td>Bleacher Report</td>\n",
              "      <td>43</td>\n",
              "      <td>2018-05-10 21:01:22+00:00</td>\n",
              "      <td>1351321</td>\n",
              "      <td>22587</td>\n",
              "      <td>616</td>\n",
              "      <td>1649</td>\n",
              "      <td>False</td>\n",
              "      <td>False</td>\n",
              "      <td>False</td>\n",
              "      <td>Shows</td>\n",
              "    </tr>\n",
              "  </tbody>\n",
              "</table>\n",
              "<p>40949 rows × 15 columns</p>\n",
              "</div>"
            ],
            "text/plain": [
              "       Unnamed: 0     video_id trending_date  \\\n",
              "0               0  2kyS6SvSYSE    2017-11-14   \n",
              "1               1  0mlNzVSJrT0    2017-11-14   \n",
              "2               2  STI2fI7sKMo    2017-11-14   \n",
              "3               3  KODzih-pYlU    2017-11-14   \n",
              "4               4  8mhTWqWlQzU    2017-11-14   \n",
              "...           ...          ...           ...   \n",
              "40944       40944  V6ElE2xs48c    2018-06-02   \n",
              "40945       40945  V6ElE2xs48c    2018-06-03   \n",
              "40946       40946  V6ElE2xs48c    2018-06-04   \n",
              "40947       40947  V6ElE2xs48c    2018-06-05   \n",
              "40948       40948  V6ElE2xs48c    2018-06-06   \n",
              "\n",
              "                                                   title       channel_title  \\\n",
              "0                     WE WANT TO TALK ABOUT OUR MARRIAGE        CaseyNeistat   \n",
              "1                                   Me-O Cats Commercial             Nobrand   \n",
              "2      AFFAIRS, EX BOYFRIENDS, $18MILLION NET WORTH -...  Shawn Johnson East   \n",
              "3      BLIND(folded) CAKE DECORATING CONTEST (with Mo...        Grace Helbig   \n",
              "4          Wearing Online Dollar Store Makeup For A Week      Safiya Nygaard   \n",
              "...                                                  ...                 ...   \n",
              "40944       Game of Zones - S5:E5: The Isle of Van Gundy     Bleacher Report   \n",
              "40945       Game of Zones - S5:E5: The Isle of Van Gundy     Bleacher Report   \n",
              "40946       Game of Zones - S5:E5: The Isle of Van Gundy     Bleacher Report   \n",
              "40947       Game of Zones - S5:E5: The Isle of Van Gundy     Bleacher Report   \n",
              "40948       Game of Zones - S5:E5: The Isle of Van Gundy     Bleacher Report   \n",
              "\n",
              "       category_id               publish_time    views   likes  dislikes  \\\n",
              "0               22  2017-11-13 17:13:01+00:00   748374   57527      2966   \n",
              "1               22  2017-04-21 06:47:32+00:00    98966    2486       184   \n",
              "2               22  2017-11-11 15:00:03+00:00   321053    4451      1772   \n",
              "3               22  2017-11-11 18:08:04+00:00   197062    7250       217   \n",
              "4               22  2017-11-11 01:19:33+00:00  2744430  115426      1110   \n",
              "...            ...                        ...      ...     ...       ...   \n",
              "40944           43  2018-05-10 21:01:22+00:00  1324482   22413       608   \n",
              "40945           43  2018-05-10 21:01:22+00:00  1332252   22461       610   \n",
              "40946           43  2018-05-10 21:01:22+00:00  1340039   22504       615   \n",
              "40947           43  2018-05-10 21:01:22+00:00  1345086   22542       615   \n",
              "40948           43  2018-05-10 21:01:22+00:00  1351321   22587       616   \n",
              "\n",
              "       comment_count  comments_disabled  ratings_disabled  \\\n",
              "0              15954              False             False   \n",
              "1                532              False             False   \n",
              "2                895              False             False   \n",
              "3                456              False             False   \n",
              "4               6541              False             False   \n",
              "...              ...                ...               ...   \n",
              "40944           1644              False             False   \n",
              "40945           1648              False             False   \n",
              "40946           1648              False             False   \n",
              "40947           1649              False             False   \n",
              "40948           1649              False             False   \n",
              "\n",
              "       video_error_or_removed           Genre  \n",
              "0                       False  People & Blogs  \n",
              "1                       False  People & Blogs  \n",
              "2                       False  People & Blogs  \n",
              "3                       False  People & Blogs  \n",
              "4                       False  People & Blogs  \n",
              "...                       ...             ...  \n",
              "40944                   False           Shows  \n",
              "40945                   False           Shows  \n",
              "40946                   False           Shows  \n",
              "40947                   False           Shows  \n",
              "40948                   False           Shows  \n",
              "\n",
              "[40949 rows x 15 columns]"
            ]
          },
          "execution_count": 71,
          "metadata": {},
          "output_type": "execute_result"
        }
      ],
      "source": [
        "df"
      ]
    },
    {
      "cell_type": "code",
      "execution_count": 72,
      "metadata": {
        "colab": {
          "base_uri": "https://localhost:8080/"
        },
        "id": "GKEZ5DhdvP0Y",
        "outputId": "494dd61f-aa62-40aa-9eac-4bba231c653f"
      },
      "outputs": [
        {
          "data": {
            "text/plain": [
              "Index(['Unnamed: 0', 'video_id', 'trending_date', 'title', 'channel_title',\n",
              "       'category_id', 'publish_time', 'views', 'likes', 'dislikes',\n",
              "       'comment_count', 'comments_disabled', 'ratings_disabled',\n",
              "       'video_error_or_removed', 'Genre'],\n",
              "      dtype='object')"
            ]
          },
          "execution_count": 72,
          "metadata": {},
          "output_type": "execute_result"
        }
      ],
      "source": [
        "df.columns"
      ]
    },
    {
      "cell_type": "code",
      "execution_count": 80,
      "metadata": {
        "id": "f8DrVIG3vjTc"
      },
      "outputs": [],
      "source": [
        "from sklearn.preprocessing import LabelEncoder"
      ]
    },
    {
      "cell_type": "code",
      "execution_count": 78,
      "metadata": {},
      "outputs": [],
      "source": [
        "lr = LabelEncoder()\n",
        "df['Genre'] = lr.fit_transform(df['Genre'])"
      ]
    },
    {
      "cell_type": "code",
      "execution_count": 79,
      "metadata": {},
      "outputs": [],
      "source": [
        "x =df[['views','dislikes','comment_count','Genre']]\n",
        "y = df['likes']"
      ]
    },
    {
      "cell_type": "code",
      "execution_count": 81,
      "metadata": {
        "id": "NvCsZMXZv9FC"
      },
      "outputs": [],
      "source": [
        "x_train,x_test,y_train,y_test = train_test_split(x,y,test_size=0.2,random_state=42)"
      ]
    },
    {
      "cell_type": "code",
      "execution_count": 82,
      "metadata": {
        "id": "eUGqJSW_v-Oy"
      },
      "outputs": [],
      "source": [
        "from sklearn.linear_model import LinearRegression"
      ]
    },
    {
      "cell_type": "code",
      "execution_count": 83,
      "metadata": {
        "id": "ZXvM5PofwApC"
      },
      "outputs": [],
      "source": [
        "lr = LinearRegression()"
      ]
    },
    {
      "cell_type": "code",
      "execution_count": 84,
      "metadata": {
        "colab": {
          "base_uri": "https://localhost:8080/",
          "height": 74
        },
        "id": "PkSi1IKvwCDr",
        "outputId": "54f7d065-f6d4-4e55-efff-1c80ffa9764d"
      },
      "outputs": [
        {
          "data": {
            "text/html": [
              "<style>#sk-container-id-3 {color: black;}#sk-container-id-3 pre{padding: 0;}#sk-container-id-3 div.sk-toggleable {background-color: white;}#sk-container-id-3 label.sk-toggleable__label {cursor: pointer;display: block;width: 100%;margin-bottom: 0;padding: 0.3em;box-sizing: border-box;text-align: center;}#sk-container-id-3 label.sk-toggleable__label-arrow:before {content: \"▸\";float: left;margin-right: 0.25em;color: #696969;}#sk-container-id-3 label.sk-toggleable__label-arrow:hover:before {color: black;}#sk-container-id-3 div.sk-estimator:hover label.sk-toggleable__label-arrow:before {color: black;}#sk-container-id-3 div.sk-toggleable__content {max-height: 0;max-width: 0;overflow: hidden;text-align: left;background-color: #f0f8ff;}#sk-container-id-3 div.sk-toggleable__content pre {margin: 0.2em;color: black;border-radius: 0.25em;background-color: #f0f8ff;}#sk-container-id-3 input.sk-toggleable__control:checked~div.sk-toggleable__content {max-height: 200px;max-width: 100%;overflow: auto;}#sk-container-id-3 input.sk-toggleable__control:checked~label.sk-toggleable__label-arrow:before {content: \"▾\";}#sk-container-id-3 div.sk-estimator input.sk-toggleable__control:checked~label.sk-toggleable__label {background-color: #d4ebff;}#sk-container-id-3 div.sk-label input.sk-toggleable__control:checked~label.sk-toggleable__label {background-color: #d4ebff;}#sk-container-id-3 input.sk-hidden--visually {border: 0;clip: rect(1px 1px 1px 1px);clip: rect(1px, 1px, 1px, 1px);height: 1px;margin: -1px;overflow: hidden;padding: 0;position: absolute;width: 1px;}#sk-container-id-3 div.sk-estimator {font-family: monospace;background-color: #f0f8ff;border: 1px dotted black;border-radius: 0.25em;box-sizing: border-box;margin-bottom: 0.5em;}#sk-container-id-3 div.sk-estimator:hover {background-color: #d4ebff;}#sk-container-id-3 div.sk-parallel-item::after {content: \"\";width: 100%;border-bottom: 1px solid gray;flex-grow: 1;}#sk-container-id-3 div.sk-label:hover label.sk-toggleable__label {background-color: #d4ebff;}#sk-container-id-3 div.sk-serial::before {content: \"\";position: absolute;border-left: 1px solid gray;box-sizing: border-box;top: 0;bottom: 0;left: 50%;z-index: 0;}#sk-container-id-3 div.sk-serial {display: flex;flex-direction: column;align-items: center;background-color: white;padding-right: 0.2em;padding-left: 0.2em;position: relative;}#sk-container-id-3 div.sk-item {position: relative;z-index: 1;}#sk-container-id-3 div.sk-parallel {display: flex;align-items: stretch;justify-content: center;background-color: white;position: relative;}#sk-container-id-3 div.sk-item::before, #sk-container-id-3 div.sk-parallel-item::before {content: \"\";position: absolute;border-left: 1px solid gray;box-sizing: border-box;top: 0;bottom: 0;left: 50%;z-index: -1;}#sk-container-id-3 div.sk-parallel-item {display: flex;flex-direction: column;z-index: 1;position: relative;background-color: white;}#sk-container-id-3 div.sk-parallel-item:first-child::after {align-self: flex-end;width: 50%;}#sk-container-id-3 div.sk-parallel-item:last-child::after {align-self: flex-start;width: 50%;}#sk-container-id-3 div.sk-parallel-item:only-child::after {width: 0;}#sk-container-id-3 div.sk-dashed-wrapped {border: 1px dashed gray;margin: 0 0.4em 0.5em 0.4em;box-sizing: border-box;padding-bottom: 0.4em;background-color: white;}#sk-container-id-3 div.sk-label label {font-family: monospace;font-weight: bold;display: inline-block;line-height: 1.2em;}#sk-container-id-3 div.sk-label-container {text-align: center;}#sk-container-id-3 div.sk-container {/* jupyter's `normalize.less` sets `[hidden] { display: none; }` but bootstrap.min.css set `[hidden] { display: none !important; }` so we also need the `!important` here to be able to override the default hidden behavior on the sphinx rendered scikit-learn.org. See: https://github.com/scikit-learn/scikit-learn/issues/21755 */display: inline-block !important;position: relative;}#sk-container-id-3 div.sk-text-repr-fallback {display: none;}</style><div id=\"sk-container-id-3\" class=\"sk-top-container\"><div class=\"sk-text-repr-fallback\"><pre>LinearRegression()</pre><b>In a Jupyter environment, please rerun this cell to show the HTML representation or trust the notebook. <br />On GitHub, the HTML representation is unable to render, please try loading this page with nbviewer.org.</b></div><div class=\"sk-container\" hidden><div class=\"sk-item\"><div class=\"sk-estimator sk-toggleable\"><input class=\"sk-toggleable__control sk-hidden--visually\" id=\"sk-estimator-id-3\" type=\"checkbox\" checked><label for=\"sk-estimator-id-3\" class=\"sk-toggleable__label sk-toggleable__label-arrow\">LinearRegression</label><div class=\"sk-toggleable__content\"><pre>LinearRegression()</pre></div></div></div></div></div>"
            ],
            "text/plain": [
              "LinearRegression()"
            ]
          },
          "execution_count": 84,
          "metadata": {},
          "output_type": "execute_result"
        }
      ],
      "source": [
        "lr.fit(x_train,y_train)"
      ]
    },
    {
      "cell_type": "code",
      "execution_count": 85,
      "metadata": {
        "id": "Vhy0D5ehwU70"
      },
      "outputs": [],
      "source": [
        "y_pred = lr.predict(x_test)"
      ]
    },
    {
      "cell_type": "code",
      "execution_count": 86,
      "metadata": {
        "colab": {
          "base_uri": "https://localhost:8080/"
        },
        "id": "5QLsbhMiwib7",
        "outputId": "7dc3cacd-9806-4802-9e4c-580cd103e992"
      },
      "outputs": [
        {
          "data": {
            "text/plain": [
              "array([ 66229.72085592,  82482.15704732,  18475.72941648, ...,\n",
              "       293750.67544857,  29601.16749534,  23540.08335066])"
            ]
          },
          "execution_count": 86,
          "metadata": {},
          "output_type": "execute_result"
        }
      ],
      "source": [
        "y_pred"
      ]
    },
    {
      "cell_type": "code",
      "execution_count": 87,
      "metadata": {
        "id": "SQLDtK8UwjHg"
      },
      "outputs": [],
      "source": [
        "from sklearn.metrics import mean_squared_error,r2_score"
      ]
    },
    {
      "cell_type": "code",
      "execution_count": 88,
      "metadata": {
        "colab": {
          "base_uri": "https://localhost:8080/"
        },
        "id": "r_VeRLQPwtGH",
        "outputId": "ebed8472-6b61-46be-888d-5817c9192258"
      },
      "outputs": [
        {
          "data": {
            "text/plain": [
              "0.8883282601892243"
            ]
          },
          "execution_count": 88,
          "metadata": {},
          "output_type": "execute_result"
        }
      ],
      "source": [
        "r2_score(y_test,y_pred)"
      ]
    },
    {
      "cell_type": "code",
      "execution_count": 89,
      "metadata": {
        "id": "77YW7qG4wuno"
      },
      "outputs": [],
      "source": [
        "import pickle\n",
        "with open('model.pkl','wb') as f:\n",
        "  pickle.dump(lr,f)"
      ]
    },
    {
      "cell_type": "code",
      "execution_count": 2,
      "metadata": {
        "id": "0DEXVdr3w6PW"
      },
      "outputs": [],
      "source": [
        "import pickle\n",
        "with open('model.pkl','rb') as mod:\n",
        "  model = pickle.load(mod)"
      ]
    },
    {
      "cell_type": "code",
      "execution_count": 3,
      "metadata": {},
      "outputs": [
        {
          "name": "stderr",
          "output_type": "stream",
          "text": [
            "c:\\Users\\lucky\\anaconda3\\Lib\\site-packages\\sklearn\\base.py:465: UserWarning: X does not have valid feature names, but LinearRegression was fitted with feature names\n",
            "  warnings.warn(\n"
          ]
        },
        {
          "data": {
            "text/plain": [
              "array([5150.7913403])"
            ]
          },
          "execution_count": 3,
          "metadata": {},
          "output_type": "execute_result"
        }
      ],
      "source": [
        "model.predict([[362573,4763,483,5]])"
      ]
    },
    {
      "cell_type": "code",
      "execution_count": null,
      "metadata": {},
      "outputs": [],
      "source": []
    },
    {
      "cell_type": "code",
      "execution_count": null,
      "metadata": {},
      "outputs": [],
      "source": []
    }
  ],
  "metadata": {
    "colab": {
      "provenance": []
    },
    "kernelspec": {
      "display_name": "Python 3",
      "name": "python3"
    },
    "language_info": {
      "codemirror_mode": {
        "name": "ipython",
        "version": 3
      },
      "file_extension": ".py",
      "mimetype": "text/x-python",
      "name": "python",
      "nbconvert_exporter": "python",
      "pygments_lexer": "ipython3",
      "version": "3.11.5"
    }
  },
  "nbformat": 4,
  "nbformat_minor": 0
}
